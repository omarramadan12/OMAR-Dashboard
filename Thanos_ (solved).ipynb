{
 "cells": [
  {
   "cell_type": "markdown",
   "metadata": {},
   "source": [
    "<img src=\"thanos.jpg\">"
   ]
  },
  {
   "cell_type": "markdown",
   "metadata": {},
   "source": [
    "# Thanos Project\n",
    "\n",
    "##### Thanos has aqcuired the infinity gauntlet, and with one snap of his fingers he will kill half the people in the universe. For this project, you need to create the following functions:\n",
    "\n",
    "1. `get_universe_people`: This function returns a list of the name of the people (files) in `universe` folder\n",
    "2. `kill_person`: This function takes as input the name of the person (file) and kills them (deletes it) \n",
    "3. `thanos_snap`: This function calculates the number of the people (files) in the `universe` folder and kills them (deletes them)\n",
    "\n",
    "Test your functions using the necessary code and run the thanos snap. Validate that half the population is dead!"
   ]
  },
  {
   "cell_type": "code",
   "execution_count": 1,
   "metadata": {},
   "outputs": [],
   "source": [
    "import os\n",
    "import random\n",
    "\n",
    "def get_universe_people():\n",
    "    people = os.listdir(\"parallel_backup\")\n",
    "    return people"
   ]
  },
  {
   "cell_type": "code",
   "execution_count": 2,
   "metadata": {},
   "outputs": [
    {
     "data": {
      "text/plain": [
       "['Adam Sandler.jpg',\n",
       " 'Angelina Julie.png',\n",
       " 'Ariana Grande.jpeg',\n",
       " 'Ben Affleck.jpg',\n",
       " 'Ben Stiller.jpg',\n",
       " 'Bill Gates.jpg',\n",
       " 'Brad Pitt.jpg',\n",
       " 'Britney Spears.jpg',\n",
       " 'Bruce Lee.jpg',\n",
       " 'Cameron Diaz.jpg',\n",
       " 'Dwayne Johnson.jpg',\n",
       " 'Elon Musk.jpg',\n",
       " 'Elton John.jpg',\n",
       " 'Jack Black.jpg',\n",
       " 'Jackie Chan.jpg',\n",
       " 'Jamie Foxx.jpg',\n",
       " 'Jason Segel.jpg',\n",
       " 'Jason Statham.jpg',\n",
       " 'Jeff Bezos.jpg',\n",
       " 'Jennifer Aniston.jpg',\n",
       " 'Jennifer Lopez.jpg',\n",
       " 'Jerry Seinfeld.jpg',\n",
       " 'Jim Carrey.jpg',\n",
       " 'John Cena.jpg',\n",
       " 'Johnny Depp.jpg',\n",
       " 'Josh Radnor.jpg',\n",
       " 'Julia Roberts.jpg',\n",
       " 'Justin Timberlake.jpg',\n",
       " 'Kate Upton.jpg',\n",
       " 'Keanu Reeves.jpg',\n",
       " 'Kevin Hart.jpg',\n",
       " 'Madonna.jpg',\n",
       " 'Mark Ruffalo.jpg',\n",
       " 'Mark Zuckerberg.jpg',\n",
       " 'Matt Damon.jpg',\n",
       " 'Michael Jackson.jpg',\n",
       " 'Michael Jordan.jpg',\n",
       " 'Mindy Kaling.jpg',\n",
       " 'Miranda Cosgrove.jpg',\n",
       " 'Neil Patrick Harris.jpg',\n",
       " 'Nick Jonas.jpg',\n",
       " 'Nicole Kidman.jpg',\n",
       " 'Paul Rudd.jpg',\n",
       " 'Robin Williams.jpg',\n",
       " 'Steve Carell.jpg',\n",
       " 'Steve Jobs.jpg',\n",
       " 'Sylvester Stallone.jpg',\n",
       " 'Tom Cruise.jpg',\n",
       " 'Will Ferrell.jpg',\n",
       " 'Will Smith.jpg']"
      ]
     },
     "execution_count": 2,
     "metadata": {},
     "output_type": "execute_result"
    }
   ],
   "source": [
    "get_universe_people()"
   ]
  },
  {
   "cell_type": "code",
   "execution_count": 3,
   "metadata": {},
   "outputs": [],
   "source": [
    "def kill_person(name):\n",
    "    print(f\"Killing {name}\")\n",
    "    os.remove(\"parallel_backup/\" + name)"
   ]
  },
  {
   "cell_type": "code",
   "execution_count": 4,
   "metadata": {},
   "outputs": [
    {
     "name": "stdout",
     "output_type": "stream",
     "text": [
      "Killing Elon Musk.jpg\n"
     ]
    }
   ],
   "source": [
    "kill_person(\"Elon Musk.jpg\")"
   ]
  },
  {
   "cell_type": "code",
   "execution_count": 6,
   "metadata": {},
   "outputs": [],
   "source": [
    "import time\n",
    "\n",
    "def thanos_snap():\n",
    "    # Get all people in universe\n",
    "    people = get_universe_people()\n",
    "\n",
    "    # Calculate how many to kill (half the universe)\n",
    "    half_universe = len(people) // 2\n",
    "\n",
    "    for i in range(half_universe):\n",
    "        person = random.choice(people)\n",
    "        kill_person(person)\n",
    "        people.remove(person)\n",
    "        time.sleep(1)\n",
    "\n",
    "    print(\"Perfectly balanced, like all things should be.\")"
   ]
  },
  {
   "cell_type": "code",
   "execution_count": 7,
   "metadata": {},
   "outputs": [
    {
     "name": "stdout",
     "output_type": "stream",
     "text": [
      "Killing Mindy Kaling.jpg\n",
      "Killing Will Ferrell.jpg\n",
      "Killing Jamie Foxx.jpg\n",
      "Killing Britney Spears.jpg\n",
      "Killing Jason Segel.jpg\n",
      "Killing Matt Damon.jpg\n",
      "Killing Justin Timberlake.jpg\n",
      "Killing Ben Affleck.jpg\n",
      "Killing Ben Stiller.jpg\n",
      "Killing Cameron Diaz.jpg\n",
      "Killing Jack Black.jpg\n",
      "Killing Jason Statham.jpg\n",
      "Killing Mark Zuckerberg.jpg\n",
      "Killing Paul Rudd.jpg\n",
      "Killing Bill Gates.jpg\n",
      "Killing Josh Radnor.jpg\n",
      "Killing Steve Jobs.jpg\n",
      "Killing Michael Jackson.jpg\n",
      "Killing Nick Jonas.jpg\n",
      "Killing John Cena.jpg\n",
      "Killing Brad Pitt.jpg\n",
      "Killing Jennifer Lopez.jpg\n",
      "Killing Madonna.jpg\n",
      "Killing Jim Carrey.jpg\n",
      "Perfectly balanced, like all things should be.\n"
     ]
    }
   ],
   "source": [
    "thanos_snap()"
   ]
  },
  {
   "cell_type": "code",
   "execution_count": null,
   "metadata": {},
   "outputs": [],
   "source": []
  }
 ],
 "metadata": {
  "interpreter": {
   "hash": "911cfdf4ee29fcb964d36255e478fd122ddd7ef148a5798ecfb832de08390f17"
  },
  "kernelspec": {
   "display_name": "Python 3.9.6 64-bit",
   "language": "python",
   "name": "python3"
  },
  "language_info": {
   "codemirror_mode": {
    "name": "ipython",
    "version": 3
   },
   "file_extension": ".py",
   "mimetype": "text/x-python",
   "name": "python",
   "nbconvert_exporter": "python",
   "pygments_lexer": "ipython3",
   "version": "3.9.6"
  },
  "orig_nbformat": 4
 },
 "nbformat": 4,
 "nbformat_minor": 2
}
